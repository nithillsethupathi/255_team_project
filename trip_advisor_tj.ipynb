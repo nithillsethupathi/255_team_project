{
 "cells": [
  {
   "cell_type": "code",
   "execution_count": 1,
   "id": "4f20228f",
   "metadata": {
    "colab": {
     "base_uri": "https://localhost:8080/"
    },
    "id": "f528f780",
    "outputId": "b2244365-8004-47aa-f081-cce97f9f93dd"
   },
   "outputs": [],
   "source": [
    "import pandas as pd\n",
    "from sklearn import preprocessing\n",
    "from gensim.models import Word2Vec\n",
    "import spacy\n",
    "import re\n",
    "from gensim.models import Word2Vec\n",
    "from sklearn.model_selection import train_test_split\n",
    "from gensim.models.phrases import Phrases, Phraser\n",
    "import multiprocessing\n",
    "from keras.preprocessing.text import Tokenizer\n",
    "from keras.preprocessing.sequence import pad_sequences\n",
    "from keras.models import Sequential\n",
    "from keras.layers import Activation, Dense, Dropout, Embedding, Flatten, Conv1D, MaxPooling1D, LSTM\n",
    "import nltk\n",
    "from nltk.tokenize import word_tokenize\n",
    "from sklearn.feature_extraction.text import CountVectorizer\n",
    "from sklearn.linear_model import LogisticRegression\n",
    "from sklearn.naive_bayes import GaussianNB\n",
    "from sklearn.ensemble import AdaBoostClassifier\n",
    "from sklearn.neural_network import MLPClassifier\n",
    "import matplotlib.pyplot as plt\n",
    "import numpy as np"
   ]
  },
  {
   "cell_type": "code",
   "execution_count": 2,
   "id": "6efd1f27",
   "metadata": {
    "id": "9b8fa64c"
   },
   "outputs": [],
   "source": [
    "df = pd.read_csv('tripadvisor_hotel_reviews.csv')"
   ]
  },
  {
   "cell_type": "code",
   "execution_count": 3,
   "id": "1ab8a4b6",
   "metadata": {
    "colab": {
     "base_uri": "https://localhost:8080/",
     "height": 206
    },
    "id": "3cb0a39f",
    "outputId": "22bba565-7ed7-4d74-f7e9-0e893a74821a"
   },
   "outputs": [
    {
     "data": {
      "text/html": [
       "<div>\n",
       "<style scoped>\n",
       "    .dataframe tbody tr th:only-of-type {\n",
       "        vertical-align: middle;\n",
       "    }\n",
       "\n",
       "    .dataframe tbody tr th {\n",
       "        vertical-align: top;\n",
       "    }\n",
       "\n",
       "    .dataframe thead th {\n",
       "        text-align: right;\n",
       "    }\n",
       "</style>\n",
       "<table border=\"1\" class=\"dataframe\">\n",
       "  <thead>\n",
       "    <tr style=\"text-align: right;\">\n",
       "      <th></th>\n",
       "      <th>Review</th>\n",
       "      <th>Rating</th>\n",
       "    </tr>\n",
       "  </thead>\n",
       "  <tbody>\n",
       "    <tr>\n",
       "      <th>0</th>\n",
       "      <td>nice hotel expensive parking got good deal sta...</td>\n",
       "      <td>4</td>\n",
       "    </tr>\n",
       "    <tr>\n",
       "      <th>1</th>\n",
       "      <td>ok nothing special charge diamond member hilto...</td>\n",
       "      <td>2</td>\n",
       "    </tr>\n",
       "    <tr>\n",
       "      <th>2</th>\n",
       "      <td>nice rooms not 4* experience hotel monaco seat...</td>\n",
       "      <td>3</td>\n",
       "    </tr>\n",
       "    <tr>\n",
       "      <th>3</th>\n",
       "      <td>unique, great stay, wonderful time hotel monac...</td>\n",
       "      <td>5</td>\n",
       "    </tr>\n",
       "    <tr>\n",
       "      <th>4</th>\n",
       "      <td>great stay great stay, went seahawk game aweso...</td>\n",
       "      <td>5</td>\n",
       "    </tr>\n",
       "  </tbody>\n",
       "</table>\n",
       "</div>"
      ],
      "text/plain": [
       "                                              Review  Rating\n",
       "0  nice hotel expensive parking got good deal sta...       4\n",
       "1  ok nothing special charge diamond member hilto...       2\n",
       "2  nice rooms not 4* experience hotel monaco seat...       3\n",
       "3  unique, great stay, wonderful time hotel monac...       5\n",
       "4  great stay great stay, went seahawk game aweso...       5"
      ]
     },
     "execution_count": 3,
     "metadata": {},
     "output_type": "execute_result"
    }
   ],
   "source": [
    "df.head()"
   ]
  },
  {
   "cell_type": "code",
   "execution_count": 4,
   "id": "e41c2d5e",
   "metadata": {
    "colab": {
     "base_uri": "https://localhost:8080/"
    },
    "id": "c103374c",
    "outputId": "bf89445c-0fdf-4b2d-8790-8b87ebe0e596"
   },
   "outputs": [
    {
     "data": {
      "text/plain": [
       "Review    0\n",
       "Rating    0\n",
       "dtype: int64"
      ]
     },
     "execution_count": 4,
     "metadata": {},
     "output_type": "execute_result"
    }
   ],
   "source": [
    "df.isnull().sum()"
   ]
  },
  {
   "cell_type": "code",
   "execution_count": 5,
   "id": "5c65af6a",
   "metadata": {
    "id": "oievqCikYrMZ"
   },
   "outputs": [],
   "source": [
    "def countOccurences(arr):\n",
    "  negative, neutral, positive = 0, 0, 0\n",
    "  for num in arr:\n",
    "    if num == 0:\n",
    "      negative += 1\n",
    "    elif num == 1:\n",
    "      neutral += 1\n",
    "    else:\n",
    "      positive += 1\n",
    "  return [negative, neutral, positive]"
   ]
  },
  {
   "cell_type": "code",
   "execution_count": 6,
   "id": "4f6511ed",
   "metadata": {
    "id": "52GD4porsycZ"
   },
   "outputs": [],
   "source": [
    "def countReviewOccurences(arr):\n",
    "  one, two, three, four, five = 0, 0, 0, 0, 0\n",
    "  for num in arr:\n",
    "    if num == 1:\n",
    "      one += 1\n",
    "    elif num == 2:\n",
    "      two += 1\n",
    "    elif num == 3:\n",
    "      three += 1\n",
    "    elif num == 4:\n",
    "      four += 1\n",
    "    else:\n",
    "      five += 1\n",
    "  return [one, two, three, four, five]"
   ]
  },
  {
   "cell_type": "code",
   "execution_count": 7,
   "id": "fd79ca75",
   "metadata": {
    "id": "bN_LeQrRr1ui"
   },
   "outputs": [],
   "source": [
    "def getSentiment(reviews):\n",
    "  rev_sent = []\n",
    "  for review in reviews:\n",
    "    if review == 1 or review == 2:\n",
    "      rev_sent.append(0)\n",
    "    elif review == 3:\n",
    "      rev_sent.append(1)\n",
    "    else:\n",
    "      rev_sent.append(2)\n",
    "  return rev_sent"
   ]
  },
  {
   "cell_type": "code",
   "execution_count": 8,
   "id": "74475d25",
   "metadata": {
    "id": "b45ebb7a"
   },
   "outputs": [],
   "source": [
    "X = df.Review\n",
    "y = df.Rating"
   ]
  },
  {
   "cell_type": "code",
   "execution_count": 9,
   "id": "e8cdafe6",
   "metadata": {
    "id": "F_jbSxZYt9d5"
   },
   "outputs": [],
   "source": [
    "z = getSentiment(y)"
   ]
  },
  {
   "cell_type": "code",
   "execution_count": 10,
   "id": "e188c540",
   "metadata": {
    "colab": {
     "base_uri": "https://localhost:8080/",
     "height": 313
    },
    "id": "80UPCj6_tWPj",
    "outputId": "14654a4c-6c47-4655-d6cb-22478b207eec"
   },
   "outputs": [
    {
     "data": {
      "text/plain": [
       "<BarContainer object of 5 artists>"
      ]
     },
     "execution_count": 10,
     "metadata": {},
     "output_type": "execute_result"
    },
    {
     "data": {
      "image/png": "[encoded data removed]",
      "text/plain": [
       "<Figure size 432x288 with 1 Axes>"
      ]
     },
     "metadata": {
      "needs_background": "light"
     },
     "output_type": "display_data"
    }
   ],
   "source": [
    "review_data = countReviewOccurences(y)\n",
    "plt.xlabel('review')\n",
    "plt.ylabel('occurences')\n",
    "plt.title('Reviews')\n",
    "plt.bar([1, 2, 3, 4, 5], review_data)"
   ]
  },
  {
   "cell_type": "code",
   "execution_count": 11,
   "id": "2a314985",
   "metadata": {
    "colab": {
     "base_uri": "https://localhost:8080/",
     "height": 313
    },
    "id": "hE5csVzpZ7hU",
    "outputId": "4858fe8f-dfff-4612-8744-78ef415ad571"
   },
   "outputs": [
    {
     "data": {
      "text/plain": [
       "<BarContainer object of 3 artists>"
      ]
     },
     "execution_count": 11,
     "metadata": {},
     "output_type": "execute_result"
    },
    {
     "data": {
      "image/png": "[encoded data removed]",
      "text/plain": [
       "<Figure size 432x288 with 1 Axes>"
      ]
     },
     "metadata": {
      "needs_background": "light"
     },
     "output_type": "display_data"
    }
   ],
   "source": [
    "sentiment_data = countOccurences(z)\n",
    "plt.xlabel('sentiment')\n",
    "plt.ylabel('occurences')\n",
    "plt.title('Review Sentiment')\n",
    "plt.bar(['neg', 'neutral', 'positive'], sentiment_data)"
   ]
  },
  {
   "cell_type": "code",
   "execution_count": 12,
   "id": "5d6e9eac",
   "metadata": {
    "id": "19b5f56a"
   },
   "outputs": [],
   "source": [
    "process = spacy.load('en_core_web_sm')\n",
    "def cleaning(email):\n",
    "    text = [token.lemma_ for token in email if not token.is_stop]\n",
    "    return \" \".join(text)\n",
    "\n",
    "regex = re.compile('[^a-zA-Z]')\n",
    "clean = (regex.sub(' ', str(row)).lower() for row in X)\n",
    "txt = [cleaning(em) for em in process.pipe(clean)]"
   ]
  },
  {
   "cell_type": "code",
   "execution_count": 13,
   "id": "7bef7b89",
   "metadata": {
    "colab": {
     "base_uri": "https://localhost:8080/",
     "height": 206
    },
    "id": "03a9c405",
    "outputId": "4c48af93-97d4-4f23-b9e1-b28d1057c77b"
   },
   "outputs": [
    {
     "data": {
      "text/html": [
       "<div>\n",
       "<style scoped>\n",
       "    .dataframe tbody tr th:only-of-type {\n",
       "        vertical-align: middle;\n",
       "    }\n",
       "\n",
       "    .dataframe tbody tr th {\n",
       "        vertical-align: top;\n",
       "    }\n",
       "\n",
       "    .dataframe thead th {\n",
       "        text-align: right;\n",
       "    }\n",
       "</style>\n",
       "<table border=\"1\" class=\"dataframe\">\n",
       "  <thead>\n",
       "    <tr style=\"text-align: right;\">\n",
       "      <th></th>\n",
       "      <th>clean</th>\n",
       "    </tr>\n",
       "  </thead>\n",
       "  <tbody>\n",
       "    <tr>\n",
       "      <th>0</th>\n",
       "      <td>nice hotel expensive parking get good deal sta...</td>\n",
       "    </tr>\n",
       "    <tr>\n",
       "      <th>1</th>\n",
       "      <td>ok special charge diamond member hilton decide...</td>\n",
       "    </tr>\n",
       "    <tr>\n",
       "      <th>2</th>\n",
       "      <td>nice room     experience hotel monaco seattle ...</td>\n",
       "    </tr>\n",
       "    <tr>\n",
       "      <th>3</th>\n",
       "      <td>unique   great stay   wonderful time hotel mon...</td>\n",
       "    </tr>\n",
       "    <tr>\n",
       "      <th>4</th>\n",
       "      <td>great stay great stay   go seahawk game awesom...</td>\n",
       "    </tr>\n",
       "  </tbody>\n",
       "</table>\n",
       "</div>"
      ],
      "text/plain": [
       "                                               clean\n",
       "0  nice hotel expensive parking get good deal sta...\n",
       "1  ok special charge diamond member hilton decide...\n",
       "2  nice room     experience hotel monaco seattle ...\n",
       "3  unique   great stay   wonderful time hotel mon...\n",
       "4  great stay great stay   go seahawk game awesom..."
      ]
     },
     "execution_count": 13,
     "metadata": {},
     "output_type": "execute_result"
    }
   ],
   "source": [
    "X_clean = pd.DataFrame({'clean': txt})\n",
    "X_clean.head()"
   ]
  },
  {
   "cell_type": "code",
   "execution_count": 14,
   "id": "2af6346e",
   "metadata": {
    "id": "hcMP2QqHBlGP"
   },
   "outputs": [],
   "source": [
    "X_train_log, X_test_log, y_train_log, y_test_log = train_test_split(X_clean['clean'], y, test_size = 0.2, random_state = 0)"
   ]
  },
  {
   "cell_type": "code",
   "execution_count": 15,
   "id": "c5889f47",
   "metadata": {
    "id": "8g2k7770rtHH"
   },
   "outputs": [],
   "source": [
    "z_train_log = getSentiment(y_train_log)\n",
    "z_test_log = getSentiment(y_test_log)"
   ]
  },
  {
   "cell_type": "code",
   "execution_count": 16,
   "id": "2a9d9629",
   "metadata": {
    "id": "_MnUipPGB_5m"
   },
   "outputs": [],
   "source": [
    "tokenizer = Tokenizer()\n",
    "tokenizer.fit_on_texts(X_train_log)\n",
    "vocab_s = len(tokenizer.word_index) + 1\n",
    "seq = tokenizer.texts_to_sequences(txt)\n",
    "max_seq_length = np.max(list(map(lambda x: len(x), seq)))\n",
    "seq = pad_sequences(seq, maxlen=max_seq_length, padding='post')\n",
    "new_X_train = pad_sequences(tokenizer.texts_to_sequences(X_train_log), padding='post', maxlen=200)\n",
    "new_X_test = pad_sequences(tokenizer.texts_to_sequences(X_test_log), padding='post', maxlen=200)"
   ]
  },
  {
   "cell_type": "code",
   "execution_count": 17,
   "id": "85f6386b",
   "metadata": {
    "colab": {
     "base_uri": "https://localhost:8080/"
    },
    "id": "xlmKzIdxCkGc",
    "outputId": "3553f5a1-5291-414a-8922-1a1779a65a78"
   },
   "outputs": [
    {
     "data": {
      "text/plain": [
       "GaussianNB()"
      ]
     },
     "execution_count": 17,
     "metadata": {},
     "output_type": "execute_result"
    }
   ],
   "source": [
    "gnb = GaussianNB()\n",
    "gnb.fit(new_X_train, z_train_log)"
   ]
  },
  {
   "cell_type": "code",
   "execution_count": 18,
   "id": "650b6c7d",
   "metadata": {
    "colab": {
     "base_uri": "https://localhost:8080/",
     "height": 332
    },
    "id": "ywJBAG5pC03M",
    "outputId": "ab0f2795-2d03-427c-f559-38fbb9eb7c97"
   },
   "outputs": [
    {
     "name": "stdout",
     "output_type": "stream",
     "text": [
      "Accuracy: 62%\n"
     ]
    },
    {
     "data": {
      "text/plain": [
       "<BarContainer object of 3 artists>"
      ]
     },
     "execution_count": 18,
     "metadata": {},
     "output_type": "execute_result"
    },
    {
     "data": {
      "image/png": "[encoded data removed]",
      "text/plain": [
       "<Figure size 432x288 with 1 Axes>"
      ]
     },
     "metadata": {
      "needs_background": "light"
     },
     "output_type": "display_data"
    }
   ],
   "source": [
    "score = gnb.score(new_X_test, z_test_log)\n",
    "print(\"Accuracy: {}%\".format(int(score*100)))\n",
    "gnb_pred = gnb.predict(new_X_test)\n",
    "gnb_pred_data = countOccurences(gnb_pred)\n",
    "plt.xlabel('sentiment')\n",
    "plt.ylabel('occurences')\n",
    "plt.title('GNB Sentiment Prediction')\n",
    "plt.bar(['neg', 'neutral', 'positive'], gnb_pred_data)"
   ]
  },
  {
   "cell_type": "code",
   "execution_count": 19,
   "id": "f5d946f7",
   "metadata": {
    "colab": {
     "base_uri": "https://localhost:8080/"
    },
    "id": "vJcpOVdLwkBa",
    "outputId": "1f2af98e-cb83-4689-adfc-432c4e152e41"
   },
   "outputs": [
    {
     "data": {
      "text/plain": [
       "GaussianNB()"
      ]
     },
     "execution_count": 19,
     "metadata": {},
     "output_type": "execute_result"
    }
   ],
   "source": [
    "gnb.fit(new_X_train, y_train_log)"
   ]
  },
  {
   "cell_type": "code",
   "execution_count": 20,
   "id": "5c29e24b",
   "metadata": {
    "colab": {
     "base_uri": "https://localhost:8080/",
     "height": 332
    },
    "id": "S-hJFlM2wrmn",
    "outputId": "59e81569-b482-4c6b-95ca-2e810af0bcb4"
   },
   "outputs": [
    {
     "name": "stdout",
     "output_type": "stream",
     "text": [
      "Accuracy: 38%\n"
     ]
    },
    {
     "data": {
      "text/plain": [
       "<BarContainer object of 5 artists>"
      ]
     },
     "execution_count": 20,
     "metadata": {},
     "output_type": "execute_result"
    },
    {
     "data": {
      "image/png": "[encoded data removed]",
      "text/plain": [
       "<Figure size 432x288 with 1 Axes>"
      ]
     },
     "metadata": {
      "needs_background": "light"
     },
     "output_type": "display_data"
    }
   ],
   "source": [
    "score = gnb.score(new_X_test, y_test_log)\n",
    "print(\"Accuracy: {}%\".format(int(score*100)))\n",
    "gnb_pred = gnb.predict(new_X_test)\n",
    "gnb_pred_data = countReviewOccurences(gnb_pred)\n",
    "plt.xlabel('review')\n",
    "plt.ylabel('occurences')\n",
    "plt.title('GNB Review Prediction')\n",
    "plt.bar([1, 2, 3, 4, 5], gnb_pred_data)"
   ]
  },
  {
   "cell_type": "code",
   "execution_count": 21,
   "id": "66826bfe",
   "metadata": {
    "colab": {
     "base_uri": "https://localhost:8080/"
    },
    "id": "vCAbOrzvEWas",
    "outputId": "b086b01b-4c02-4ad6-b1a1-a9d6608909d4"
   },
   "outputs": [
    {
     "data": {
      "text/plain": [
       "AdaBoostClassifier(n_estimators=100)"
      ]
     },
     "execution_count": 21,
     "metadata": {},
     "output_type": "execute_result"
    }
   ],
   "source": [
    "ada = AdaBoostClassifier(n_estimators=100)\n",
    "ada.fit(new_X_train, z_train_log)"
   ]
  },
  {
   "cell_type": "code",
   "execution_count": 22,
   "id": "00f26f08",
   "metadata": {
    "colab": {
     "base_uri": "https://localhost:8080/",
     "height": 332
    },
    "id": "QeoqRqsFE3wL",
    "outputId": "199337e1-56bd-4a84-f313-c1d84bae1685"
   },
   "outputs": [
    {
     "name": "stdout",
     "output_type": "stream",
     "text": [
      "Accuracy: 72%\n"
     ]
    },
    {
     "data": {
      "text/plain": [
       "<BarContainer object of 3 artists>"
      ]
     },
     "execution_count": 22,
     "metadata": {},
     "output_type": "execute_result"
    },
    {
     "data": {
      "image/png": "[encoded data removed]",
      "text/plain": [
       "<Figure size 432x288 with 1 Axes>"
      ]
     },
     "metadata": {
      "needs_background": "light"
     },
     "output_type": "display_data"
    }
   ],
   "source": [
    "score = ada.score(new_X_test, z_test_log)\n",
    "print(\"Accuracy: {}%\".format(int(score*100)))\n",
    "ada_pred = ada.predict(new_X_test)\n",
    "ada_pred_data = countOccurences(ada_pred)\n",
    "plt.xlabel('sentiment')\n",
    "plt.ylabel('occurences')\n",
    "plt.title('ADA Sentiment Prediction')\n",
    "plt.bar(['neg', 'neutral', 'positive'], ada_pred_data)"
   ]
  },
  {
   "cell_type": "code",
   "execution_count": 23,
   "id": "ac1cf13b",
   "metadata": {
    "colab": {
     "base_uri": "https://localhost:8080/"
    },
    "id": "XOI1z4x5xYPJ",
    "outputId": "0dc29988-4e63-4343-b825-9962cdba9f7e"
   },
   "outputs": [
    {
     "data": {
      "text/plain": [
       "AdaBoostClassifier(n_estimators=100)"
      ]
     },
     "execution_count": 23,
     "metadata": {},
     "output_type": "execute_result"
    }
   ],
   "source": [
    "ada.fit(new_X_train, y_train_log)"
   ]
  },
  {
   "cell_type": "code",
   "execution_count": 24,
   "id": "6ba73847",
   "metadata": {
    "colab": {
     "base_uri": "https://localhost:8080/",
     "height": 332
    },
    "id": "bXI0B4CNxcfp",
    "outputId": "b76fc74c-53b5-4250-b4eb-650480dc1a5c"
   },
   "outputs": [
    {
     "name": "stdout",
     "output_type": "stream",
     "text": [
      "Accuracy: 44%\n"
     ]
    },
    {
     "data": {
      "text/plain": [
       "<BarContainer object of 5 artists>"
      ]
     },
     "execution_count": 24,
     "metadata": {},
     "output_type": "execute_result"
    },
    {
     "data": {
      "image/png": "[encoded data removed]",
      "text/plain": [
       "<Figure size 432x288 with 1 Axes>"
      ]
     },
     "metadata": {
      "needs_background": "light"
     },
     "output_type": "display_data"
    }
   ],
   "source": [
    "score = ada.score(new_X_test, y_test_log)\n",
    "print(\"Accuracy: {}%\".format(int(score*100)))\n",
    "ada_pred = ada.predict(new_X_test)\n",
    "ada_pred_data = countReviewOccurences(ada_pred)\n",
    "plt.xlabel('review')\n",
    "plt.ylabel('occurences')\n",
    "plt.title('ADA Review Prediction')\n",
    "plt.bar([1, 2, 3, 4, 5], ada_pred_data)"
   ]
  },
  {
   "cell_type": "code",
   "execution_count": 25,
   "id": "618e3068",
   "metadata": {
    "colab": {
     "base_uri": "https://localhost:8080/"
    },
    "id": "1YP-i1yLGrvw",
    "outputId": "b7a59535-2b12-447c-cc89-4284f0789427"
   },
   "outputs": [
    {
     "data": {
      "text/plain": [
       "MLPClassifier(alpha=0.01, hidden_layer_sizes=(100, 50, 150, 100, 125, 75),\n",
       "              max_iter=600, random_state=1)"
      ]
     },
     "execution_count": 25,
     "metadata": {},
     "output_type": "execute_result"
    }
   ],
   "source": [
    "mlp = MLPClassifier(random_state=1, alpha=0.01, max_iter=600, hidden_layer_sizes=(100,50,150,100,125,75,))\n",
    "mlp.fit(new_X_train, z_train_log)"
   ]
  },
  {
   "cell_type": "code",
   "execution_count": 26,
   "id": "cc165e7b",
   "metadata": {
    "colab": {
     "base_uri": "https://localhost:8080/",
     "height": 332
    },
    "id": "2OC3WCakQi3O",
    "outputId": "e4851693-e851-4d36-e2be-8187eeb0d025"
   },
   "outputs": [
    {
     "name": "stdout",
     "output_type": "stream",
     "text": [
      "Accuracy: 60%\n"
     ]
    },
    {
     "data": {
      "text/plain": [
       "<BarContainer object of 3 artists>"
      ]
     },
     "execution_count": 26,
     "metadata": {},
     "output_type": "execute_result"
    },
    {
     "data": {
      "image/png": "[encoded data removed]",
      "text/plain": [
       "<Figure size 432x288 with 1 Axes>"
      ]
     },
     "metadata": {
      "needs_background": "light"
     },
     "output_type": "display_data"
    }
   ],
   "source": [
    "score = mlp.score(new_X_test, z_test_log)\n",
    "print(\"Accuracy: {}%\".format(int(score*100)))\n",
    "mlp_pred = mlp.predict(new_X_test)\n",
    "mlp_pred_data = countOccurences(mlp_pred)\n",
    "plt.xlabel('sentiment')\n",
    "plt.ylabel('occurences')\n",
    "plt.title('MLP Sentiment Prediction')\n",
    "plt.bar(['neg', 'neutral', 'positive'], mlp_pred_data)"
   ]
  },
  {
   "cell_type": "code",
   "execution_count": 27,
   "id": "a54b55a4",
   "metadata": {
    "colab": {
     "base_uri": "https://localhost:8080/"
    },
    "id": "MhGo8xRyynlX",
    "outputId": "4bbffdd7-4898-4708-c961-3d585ba02c04"
   },
   "outputs": [
    {
     "data": {
      "text/plain": [
       "MLPClassifier(alpha=0.01, hidden_layer_sizes=(100, 50, 150, 100, 125, 75),\n",
       "              max_iter=600, random_state=1)"
      ]
     },
     "execution_count": 27,
     "metadata": {},
     "output_type": "execute_result"
    }
   ],
   "source": [
    "mlp.fit(new_X_train, y_train_log)"
   ]
  },
  {
   "cell_type": "code",
   "execution_count": 28,
   "id": "77ac3d8f",
   "metadata": {
    "colab": {
     "base_uri": "https://localhost:8080/",
     "height": 332
    },
    "id": "FcBjuC_Ay0_c",
    "outputId": "fa5ea2fe-5755-426b-a6a2-6d7ed14af203"
   },
   "outputs": [
    {
     "name": "stdout",
     "output_type": "stream",
     "text": [
      "Accuracy: 38%\n"
     ]
    },
    {
     "data": {
      "text/plain": [
       "<BarContainer object of 5 artists>"
      ]
     },
     "execution_count": 28,
     "metadata": {},
     "output_type": "execute_result"
    },
    {
     "data": {
      "image/png": "[encoded data removed]",
      "text/plain": [
       "<Figure size 432x288 with 1 Axes>"
      ]
     },
     "metadata": {
      "needs_background": "light"
     },
     "output_type": "display_data"
    }
   ],
   "source": [
    "score = mlp.score(new_X_test, y_test_log)\n",
    "print(\"Accuracy: {}%\".format(int(score*100)))\n",
    "mlp_pred = mlp.predict(new_X_test)\n",
    "mlp_pred_data = countReviewOccurences(mlp_pred)\n",
    "plt.xlabel('review')\n",
    "plt.ylabel('occurences')\n",
    "plt.title('MLP Review Prediction')\n",
    "plt.bar([1, 2, 3, 4, 5], mlp_pred_data)"
   ]
  },
  {
   "cell_type": "code",
   "execution_count": 29,
   "id": "358cf843",
   "metadata": {
    "id": "c2d1f833"
   },
   "outputs": [],
   "source": [
    "sent = []\n",
    "for row in X_clean['clean']:\n",
    "    sent.append(row.split())\n",
    "phrases = Phrases(sent, min_count=30, progress_per=10000)\n",
    "bigram = Phraser(phrases)\n",
    "sentences = bigram[sent]"
   ]
  },
  {
   "cell_type": "code",
   "execution_count": 30,
   "id": "2313a55f",
   "metadata": {
    "id": "5e762703"
   },
   "outputs": [],
   "source": [
    "cores = multiprocessing.cpu_count()\n",
    "model = Word2Vec(min_count=5, window=3, size=300, alpha=0.03, min_alpha=0.0007, negative=20, workers=cores-1)"
   ]
  },
  {
   "cell_type": "code",
   "execution_count": 31,
   "id": "cdea770c",
   "metadata": {
    "id": "576535fa"
   },
   "outputs": [],
   "source": [
    "model.build_vocab(sentences, progress_per=10000)\n",
    "words = model.wv.vocab.keys()"
   ]
  },
  {
   "cell_type": "code",
   "execution_count": 32,
   "id": "5bea5c42",
   "metadata": {
    "colab": {
     "base_uri": "https://localhost:8080/"
    },
    "id": "fffb5399",
    "outputId": "bdc18cd7-a5ce-4f33-fd6d-b2cb0b3bb0a7"
   },
   "outputs": [
    {
     "data": {
      "text/plain": [
       "(65203807, 75892400)"
      ]
     },
     "execution_count": 32,
     "metadata": {},
     "output_type": "execute_result"
    }
   ],
   "source": [
    "model.train(sentences,total_examples=model.corpus_count,epochs=40)"
   ]
  },
  {
   "cell_type": "code",
   "execution_count": 33,
   "id": "af667b0b",
   "metadata": {
    "colab": {
     "base_uri": "https://localhost:8080/"
    },
    "id": "0e87b43c",
    "outputId": "436b34eb-41eb-4603-a125-e540b0dffa80"
   },
   "outputs": [
    {
     "name": "stderr",
     "output_type": "stream",
     "text": [
      "C:\\Users\\NithilSethupathi\\.conda\\envs\\tf\\lib\\site-packages\\sklearn\\feature_extraction\\text.py:484: UserWarning: The parameter 'token_pattern' will not be used since 'tokenizer' is not None'\n",
      "  warnings.warn(\"The parameter 'token_pattern' will not be used\"\n"
     ]
    },
    {
     "data": {
      "text/plain": [
       "CountVectorizer(tokenizer=<function word_tokenize at 0x000001D706CF3AF0>)"
      ]
     },
     "execution_count": 33,
     "metadata": {},
     "output_type": "execute_result"
    }
   ],
   "source": [
    "w_counts = CountVectorizer(tokenizer= word_tokenize, ngram_range=(1,1))\n",
    "w_counts.fit(X_clean['clean'])"
   ]
  },
  {
   "cell_type": "code",
   "execution_count": 34,
   "id": "a1e2d5cd",
   "metadata": {
    "id": "ex0adIzTWX2D"
   },
   "outputs": [],
   "source": [
    "new_X_train_log = w_counts.transform(X_train_log)\n",
    "new_X_test_log = w_counts.transform(X_test_log)"
   ]
  },
  {
   "cell_type": "code",
   "execution_count": 35,
   "id": "e1c9d0e0",
   "metadata": {
    "colab": {
     "base_uri": "https://localhost:8080/"
    },
    "id": "a4f4adc0",
    "outputId": "c413266e-8cd9-427e-d8e3-a64df6abb9d1"
   },
   "outputs": [
    {
     "data": {
      "text/plain": [
       "LogisticRegression(max_iter=5000, solver='saga')"
      ]
     },
     "execution_count": 35,
     "metadata": {},
     "output_type": "execute_result"
    }
   ],
   "source": [
    "log = LogisticRegression(solver='saga', max_iter=5000)\n",
    "log.fit(new_X_train_log, z_train_log)"
   ]
  },
  {
   "cell_type": "code",
   "execution_count": 36,
   "id": "9eec8412",
   "metadata": {
    "colab": {
     "base_uri": "https://localhost:8080/",
     "height": 332
    },
    "id": "YpeaV_cbbCGi",
    "outputId": "f493db30-d8dd-470c-8e19-2b31a0f6df0a"
   },
   "outputs": [
    {
     "name": "stdout",
     "output_type": "stream",
     "text": [
      "Accuracy: 82%\n"
     ]
    },
    {
     "data": {
      "text/plain": [
       "<BarContainer object of 3 artists>"
      ]
     },
     "execution_count": 36,
     "metadata": {},
     "output_type": "execute_result"
    },
    {
     "data": {
      "image/png": "[encoded data removed]",
      "text/plain": [
       "<Figure size 432x288 with 1 Axes>"
      ]
     },
     "metadata": {
      "needs_background": "light"
     },
     "output_type": "display_data"
    }
   ],
   "source": [
    "score = log.score(new_X_test_log, z_test_log)\n",
    "print(\"Accuracy: {}%\".format(int(score*100)))\n",
    "log_pred = log.predict(new_X_test_log)\n",
    "log_pred_data = countOccurences(log_pred)\n",
    "plt.xlabel('review')\n",
    "plt.ylabel('occurences')\n",
    "plt.title('LogReg Sentiment Prediction')\n",
    "plt.bar(['neg', 'neutral', 'positive'], log_pred_data)"
   ]
  },
  {
   "cell_type": "code",
   "execution_count": 37,
   "id": "66f3b0af",
   "metadata": {
    "colab": {
     "base_uri": "https://localhost:8080/"
    },
    "id": "Ar5egdyIIvWH",
    "outputId": "502d6478-a0fb-4bed-8be9-461bba1250e3"
   },
   "outputs": [
    {
     "data": {
      "text/plain": [
       "LogisticRegression(max_iter=5000, solver='saga')"
      ]
     },
     "execution_count": 37,
     "metadata": {},
     "output_type": "execute_result"
    }
   ],
   "source": [
    "log.fit(new_X_train_log, y_train_log)"
   ]
  },
  {
   "cell_type": "code",
   "execution_count": 38,
   "id": "bfaae8fe",
   "metadata": {
    "colab": {
     "base_uri": "https://localhost:8080/",
     "height": 332
    },
    "id": "8hfNfI37I0Lk",
    "outputId": "145dec28-d4d3-4093-a1f8-578c0c6c4450"
   },
   "outputs": [
    {
     "name": "stdout",
     "output_type": "stream",
     "text": [
      "Accuracy: 57%\n"
     ]
    },
    {
     "data": {
      "text/plain": [
       "<BarContainer object of 5 artists>"
      ]
     },
     "execution_count": 38,
     "metadata": {},
     "output_type": "execute_result"
    },
    {
     "data": {
      "image/png": "[encoded data removed]",
      "text/plain": [
       "<Figure size 432x288 with 1 Axes>"
      ]
     },
     "metadata": {
      "needs_background": "light"
     },
     "output_type": "display_data"
    }
   ],
   "source": [
    "score = log.score(new_X_test_log, y_test_log)\n",
    "print(\"Accuracy: {}%\".format(int(score*100)))\n",
    "log_pred = log.predict(new_X_test_log)\n",
    "log_pred_data = countReviewOccurences(log_pred)\n",
    "plt.xlabel('review')\n",
    "plt.ylabel('occurences')\n",
    "plt.title('LogReg Review Prediction')\n",
    "plt.bar([1, 2, 3, 4, 5], log_pred_data)"
   ]
  },
  {
   "cell_type": "code",
   "execution_count": 39,
   "id": "d8aa69a0",
   "metadata": {},
   "outputs": [],
   "source": [
    "from sklearn.pipeline import Pipeline\n",
    "from sklearn.metrics import accuracy_score\n",
    "from sklearn.multiclass import OneVsRestClassifier"
   ]
  },
  {
   "cell_type": "code",
   "execution_count": 40,
   "id": "72b72622",
   "metadata": {},
   "outputs": [
    {
     "data": {
      "text/plain": [
       "Pipeline(steps=[('clf',\n",
       "                 OneVsRestClassifier(estimator=LogisticRegression(solver='saga'),\n",
       "                                     n_jobs=-1))])"
      ]
     },
     "execution_count": 40,
     "metadata": {},
     "output_type": "execute_result"
    }
   ],
   "source": [
    "logReg_pipeline = Pipeline([('clf', OneVsRestClassifier(LogisticRegression(solver='saga'), n_jobs=-1)),])\n",
    "logReg_pipeline.fit(new_X_train_log, z_train_log)"
   ]
  },
  {
   "cell_type": "code",
   "execution_count": 41,
   "id": "37680a34",
   "metadata": {},
   "outputs": [
    {
     "name": "stdout",
     "output_type": "stream",
     "text": [
      "Accuracy: 84%\n"
     ]
    },
    {
     "data": {
      "text/plain": [
       "<BarContainer object of 3 artists>"
      ]
     },
     "execution_count": 41,
     "metadata": {},
     "output_type": "execute_result"
    },
    {
     "data": {
      "image/png": "[encoded data removed]",
      "text/plain": [
       "<Figure size 432x288 with 1 Axes>"
      ]
     },
     "metadata": {
      "needs_background": "light"
     },
     "output_type": "display_data"
    }
   ],
   "source": [
    "score = logReg_pipeline.score(new_X_test_log, z_test_log)\n",
    "print(\"Accuracy: {}%\".format(int(score*100)))\n",
    "log_reg_pred = logReg_pipeline.predict(new_X_test_log)\n",
    "log_pred_data = countOccurences(log_reg_pred)\n",
    "plt.xlabel('review')\n",
    "plt.ylabel('occurences')\n",
    "plt.title('LogReg with OneVsRest Sentiment Prediction')\n",
    "plt.bar(['neg', 'neutral', 'positive'], log_pred_data)"
   ]
  },
  {
   "cell_type": "code",
   "execution_count": 42,
   "id": "37c8b855",
   "metadata": {},
   "outputs": [
    {
     "name": "stdout",
     "output_type": "stream",
     "text": [
      "Accuracy: 60%\n"
     ]
    },
    {
     "data": {
      "text/plain": [
       "<BarContainer object of 5 artists>"
      ]
     },
     "execution_count": 42,
     "metadata": {},
     "output_type": "execute_result"
    },
    {
     "data": {
      "image/png": "[encoded data removed]",
      "text/plain": [
       "<Figure size 432x288 with 1 Axes>"
      ]
     },
     "metadata": {
      "needs_background": "light"
     },
     "output_type": "display_data"
    }
   ],
   "source": [
    "logReg_pipeline.fit(new_X_train_log, y_train_log)\n",
    "score = logReg_pipeline.score(new_X_test_log, y_test_log)\n",
    "print(\"Accuracy: {}%\".format(int(score*100)))\n",
    "log_pred = logReg_pipeline.predict(new_X_test_log)\n",
    "log_pred_data = countReviewOccurences(log_pred)\n",
    "plt.xlabel('review')\n",
    "plt.ylabel('occurences')\n",
    "plt.title('LogReg Review with OneVsRest Prediction')\n",
    "plt.bar([1, 2, 3, 4, 5], log_pred_data)"
   ]
  },
  {
   "cell_type": "code",
   "execution_count": 43,
   "id": "8cac9661",
   "metadata": {},
   "outputs": [
    {
     "data": {
      "text/plain": [
       "0        3\n",
       "1        1\n",
       "2        2\n",
       "3        4\n",
       "4        4\n",
       "        ..\n",
       "20486    4\n",
       "20487    3\n",
       "20488    1\n",
       "20489    0\n",
       "20490    1\n",
       "Name: Rating, Length: 20491, dtype: int64"
      ]
     },
     "execution_count": 43,
     "metadata": {},
     "output_type": "execute_result"
    }
   ],
   "source": [
    "encoding = {1: 0,\n",
    "            2: 1,\n",
    "            3: 2,\n",
    "            4: 3,\n",
    "            5: 4\n",
    "           }\n",
    "ratings = df['Rating'].copy()\n",
    "ratings.replace(encoding, inplace=True)\n",
    "ratings"
   ]
  },
  {
   "cell_type": "code",
   "execution_count": 44,
   "id": "7a2bf9a3",
   "metadata": {},
   "outputs": [
    {
     "data": {
      "text/plain": [
       "0        2\n",
       "1        0\n",
       "2        1\n",
       "3        2\n",
       "4        2\n",
       "        ..\n",
       "20486    2\n",
       "20487    2\n",
       "20488    0\n",
       "20489    0\n",
       "20490    0\n",
       "Name: Rating, Length: 20491, dtype: int64"
      ]
     },
     "execution_count": 44,
     "metadata": {},
     "output_type": "execute_result"
    }
   ],
   "source": [
    "sentiments = y.apply(lambda x : 2 if x == 5 or x == 4 else(1 if x == 3 else 0))\n",
    "sentiments"
   ]
  },
  {
   "cell_type": "code",
   "execution_count": 45,
   "id": "171b93fa",
   "metadata": {},
   "outputs": [],
   "source": [
    "train_seq1, test_seq1, train_sentiment, test_sentiment = train_test_split(seq, sentiments, train_size=0.8, random_state=100)\n",
    "train_seq2, test_seq2, train_rating, test_rating = train_test_split(seq, ratings, train_size=0.8, random_state=100)"
   ]
  },
  {
   "cell_type": "code",
   "execution_count": 46,
   "id": "a46a5a3c",
   "metadata": {},
   "outputs": [
    {
     "data": {
      "text/plain": [
       "{0: 0.4525497471233905, 1: 2.125181497614603, 2: 3.1274420024420024}"
      ]
     },
     "execution_count": 46,
     "metadata": {},
     "output_type": "execute_result"
    }
   ],
   "source": [
    "from sklearn.utils import class_weight\n",
    "\n",
    "class_weight = dict(\n",
    "    enumerate(\n",
    "        class_weight.compute_class_weight(\n",
    "            class_weight='balanced',\n",
    "            classes=sentiments.unique(), \n",
    "            y=sentiments\n",
    "        )\n",
    "    )\n",
    ")\n",
    "class_weight"
   ]
  },
  {
   "cell_type": "code",
   "execution_count": 47,
   "id": "97d22de4",
   "metadata": {},
   "outputs": [],
   "source": [
    "import tensorflow as tf\n",
    "import tensorflow.keras.layers as L"
   ]
  },
  {
   "cell_type": "code",
   "execution_count": 48,
   "id": "92581a2e",
   "metadata": {},
   "outputs": [],
   "source": [
    "model_sentiment = tf.keras.Sequential([\n",
    "    L.Embedding(vocab_s, 8, input_length=max_seq_length),\n",
    "    L.Bidirectional(L.LSTM(15,return_sequences=True)),\n",
    "    L.MaxPool1D(),\n",
    "    L.Flatten(),\n",
    "    L.Dropout(0.5),\n",
    "    L.Dense(128, activation=\"relu\"),\n",
    "    L.Dropout(0.5),\n",
    "    L.Dense(64, activation=\"relu\"),\n",
    "    L.Dropout(0.5),\n",
    "    L.Dense(3, activation=\"softmax\")\n",
    "])\n",
    "\n",
    "model_rating = tf.keras.Sequential([\n",
    "    L.Embedding(vocab_s, 16, input_length=max_seq_length),\n",
    "    L.Bidirectional(L.LSTM(30,return_sequences=True)),\n",
    "    L.MaxPool1D(),\n",
    "    L.Flatten(),\n",
    "    L.Dropout(0.5),\n",
    "    L.Dense(64, activation=\"relu\"),\n",
    "    L.Dropout(0.5),\n",
    "    L.Dense(5, activation=\"softmax\")\n",
    "])"
   ]
  },
  {
   "cell_type": "code",
   "execution_count": 49,
   "id": "d1a91198",
   "metadata": {},
   "outputs": [
    {
     "name": "stdout",
     "output_type": "stream",
     "text": [
      "Model: \"sequential\"\n",
      "_________________________________________________________________\n",
      "Layer (type)                 Output Shape              Param #   \n",
      "=================================================================\n",
      "embedding (Embedding)        (None, 1838, 8)           295296    \n",
      "_________________________________________________________________\n",
      "bidirectional (Bidirectional (None, 1838, 30)          2880      \n",
      "_________________________________________________________________\n",
      "max_pooling1d (MaxPooling1D) (None, 919, 30)           0         \n",
      "_________________________________________________________________\n",
      "flatten (Flatten)            (None, 27570)             0         \n",
      "_________________________________________________________________\n",
      "dropout (Dropout)            (None, 27570)             0         \n",
      "_________________________________________________________________\n",
      "dense (Dense)                (None, 128)               3529088   \n",
      "_________________________________________________________________\n",
      "dropout_1 (Dropout)          (None, 128)               0         \n",
      "_________________________________________________________________\n",
      "dense_1 (Dense)              (None, 64)                8256      \n",
      "_________________________________________________________________\n",
      "dropout_2 (Dropout)          (None, 64)                0         \n",
      "_________________________________________________________________\n",
      "dense_2 (Dense)              (None, 3)                 195       \n",
      "=================================================================\n",
      "Total params: 3,835,715\n",
      "Trainable params: 3,835,715\n",
      "Non-trainable params: 0\n",
      "_________________________________________________________________\n"
     ]
    }
   ],
   "source": [
    "model_sentiment.compile(loss='sparse_categorical_crossentropy', optimizer='adam',metrics=['accuracy'])\n",
    "model_sentiment.summary()"
   ]
  },
  {
   "cell_type": "code",
   "execution_count": 50,
   "id": "fe98dd64",
   "metadata": {},
   "outputs": [
    {
     "name": "stdout",
     "output_type": "stream",
     "text": [
      "Model: \"sequential_1\"\n",
      "_________________________________________________________________\n",
      "Layer (type)                 Output Shape              Param #   \n",
      "=================================================================\n",
      "embedding_1 (Embedding)      (None, 1838, 16)          590592    \n",
      "_________________________________________________________________\n",
      "bidirectional_1 (Bidirection (None, 1838, 60)          11280     \n",
      "_________________________________________________________________\n",
      "max_pooling1d_1 (MaxPooling1 (None, 919, 60)           0         \n",
      "_________________________________________________________________\n",
      "flatten_1 (Flatten)          (None, 55140)             0         \n",
      "_________________________________________________________________\n",
      "dropout_3 (Dropout)          (None, 55140)             0         \n",
      "_________________________________________________________________\n",
      "dense_3 (Dense)              (None, 64)                3529024   \n",
      "_________________________________________________________________\n",
      "dropout_4 (Dropout)          (None, 64)                0         \n",
      "_________________________________________________________________\n",
      "dense_4 (Dense)              (None, 5)                 325       \n",
      "=================================================================\n",
      "Total params: 4,131,221\n",
      "Trainable params: 4,131,221\n",
      "Non-trainable params: 0\n",
      "_________________________________________________________________\n"
     ]
    }
   ],
   "source": [
    "model_rating.compile(loss='sparse_categorical_crossentropy', optimizer='adam',metrics=['accuracy'])\n",
    "model_rating.summary()"
   ]
  },
  {
   "cell_type": "code",
   "execution_count": 51,
   "id": "6eb32aed",
   "metadata": {},
   "outputs": [
    {
     "name": "stdout",
     "output_type": "stream",
     "text": [
      "Epoch 1/10\n",
      "451/451 - 344s - loss: 0.5419 - accuracy: 0.8040 - val_loss: 0.3847 - val_accuracy: 0.8537\n",
      "Epoch 2/10\n",
      "451/451 - 336s - loss: 0.3452 - accuracy: 0.8640 - val_loss: 0.3898 - val_accuracy: 0.8552\n",
      "Epoch 3/10\n",
      "451/451 - 334s - loss: 0.2775 - accuracy: 0.8912 - val_loss: 0.4497 - val_accuracy: 0.8501\n",
      "Epoch 4/10\n",
      "451/451 - 335s - loss: 0.2324 - accuracy: 0.9088 - val_loss: 0.5158 - val_accuracy: 0.8415\n"
     ]
    }
   ],
   "source": [
    "history_sentiment = model_sentiment.fit(train_seq1, train_sentiment, epochs=10,validation_split=0.12, batch_size=32, verbose=2, callbacks=[\n",
    "        tf.keras.callbacks.EarlyStopping(\n",
    "            monitor='val_accuracy',\n",
    "            patience=2,\n",
    "            restore_best_weights=True\n",
    "        )])"
   ]
  },
  {
   "cell_type": "code",
   "execution_count": 52,
   "id": "dcaa508d",
   "metadata": {},
   "outputs": [
    {
     "name": "stdout",
     "output_type": "stream",
     "text": [
      "Epoch 1/10\n",
      "451/451 - 383s - loss: 1.1381 - accuracy: 0.4950 - val_loss: 0.8769 - val_accuracy: 0.6067\n",
      "Epoch 2/10\n",
      "451/451 - 379s - loss: 0.8089 - accuracy: 0.6485 - val_loss: 0.8467 - val_accuracy: 0.6214\n",
      "Epoch 3/10\n",
      "451/451 - 381s - loss: 0.6722 - accuracy: 0.7162 - val_loss: 0.9164 - val_accuracy: 0.6199\n",
      "Epoch 4/10\n",
      "451/451 - 382s - loss: 0.5581 - accuracy: 0.7730 - val_loss: 1.0341 - val_accuracy: 0.5976\n"
     ]
    }
   ],
   "source": [
    "history_rating = model_rating.fit(train_seq2, train_rating, epochs=10,validation_split=0.12, batch_size=32, verbose=2, callbacks=[\n",
    "        tf.keras.callbacks.EarlyStopping(\n",
    "            monitor='val_accuracy',\n",
    "            patience=2,\n",
    "            restore_best_weights=True\n",
    "        )])"
   ]
  },
  {
   "cell_type": "code",
   "execution_count": 53,
   "id": "e1237694",
   "metadata": {},
   "outputs": [
    {
     "name": "stdout",
     "output_type": "stream",
     "text": [
      "129/129 [==============================] - 13s 97ms/step - loss: 0.3888 - accuracy: 0.8514\n"
     ]
    },
    {
     "data": {
      "text/plain": [
       "[0.3888050615787506, 0.8514271974563599]"
      ]
     },
     "execution_count": 53,
     "metadata": {},
     "output_type": "execute_result"
    }
   ],
   "source": [
    "model_sentiment.evaluate(test_seq1, test_sentiment)"
   ]
  },
  {
   "cell_type": "code",
   "execution_count": 54,
   "id": "a213f8e4",
   "metadata": {},
   "outputs": [
    {
     "name": "stdout",
     "output_type": "stream",
     "text": [
      "129/129 [==============================] - 15s 120ms/step - loss: 0.8452 - accuracy: 0.6194\n"
     ]
    },
    {
     "data": {
      "text/plain": [
       "[0.8451975584030151, 0.6194193959236145]"
      ]
     },
     "execution_count": 54,
     "metadata": {},
     "output_type": "execute_result"
    }
   ],
   "source": [
    "model_rating.evaluate(test_seq2, test_rating)"
   ]
  },
  {
   "cell_type": "code",
   "execution_count": 56,
   "id": "aa813078",
   "metadata": {},
   "outputs": [],
   "source": [
    "sentiment_pred = model_sentiment.predict(test_seq1)\n",
    "rating_pred = model_rating.predict(test_seq2)"
   ]
  },
  {
   "cell_type": "code",
   "execution_count": 57,
   "id": "33de3356",
   "metadata": {},
   "outputs": [],
   "source": [
    "def graph_prep(pred_data, actual_data, flag):\n",
    "    pred_arr = []\n",
    "    actual_arr = []\n",
    "    for arr in pred_data:\n",
    "        biggest = float('-inf')\n",
    "        biggest_idx = -1\n",
    "        for i in range(len(arr)):\n",
    "            if arr[i] > biggest:\n",
    "                biggest = arr[i]\n",
    "                biggest_idx = i\n",
    "        pred_arr.append(biggest_idx)\n",
    "    correct = 0\n",
    "    idx = 0\n",
    "    actual_arr = []\n",
    "    if flag == 'sentiment':\n",
    "        test = test_sentiment\n",
    "    else:\n",
    "        test = test_rating\n",
    "    for num in test:\n",
    "        actual_arr.append(num)\n",
    "        if pred_arr[idx] == num:\n",
    "            correct += 1\n",
    "        idx += 1\n",
    "    if flag == 'sentiment':\n",
    "        graph_pred_data = countOccurences(pred_arr)\n",
    "        graph_actual_data = countOccurences(actual_data)\n",
    "    else:\n",
    "        graph_pred_data = countReviewOccurences(pred_arr)\n",
    "        graph_actual_data = countReviewOccurences(actual_data)\n",
    "    return graph_pred_data, graph_actual_data, int((correct / len(test))*100)\n",
    "        "
   ]
  },
  {
   "cell_type": "code",
   "execution_count": 58,
   "id": "a66ef7af",
   "metadata": {},
   "outputs": [
    {
     "name": "stdout",
     "output_type": "stream",
     "text": [
      "Sentiment prediction accuracy = 85%\n",
      "Rating prediction accuracy = 61%\n"
     ]
    }
   ],
   "source": [
    "sentiment_pred_data, sentiment_actual_data, s_score = graph_prep(sentiment_pred, test_sentiment, 'sentiment')\n",
    "rating_pred_data, rating_actual_data, r_score = graph_prep(rating_pred, test_rating, 'rating')\n",
    "print(\"Sentiment prediction accuracy = {}%\".format(s_score))\n",
    "print(\"Rating prediction accuracy = {}%\".format(r_score))"
   ]
  },
  {
   "cell_type": "code",
   "execution_count": 59,
   "id": "6f44f461",
   "metadata": {},
   "outputs": [],
   "source": [
    "def graph_plot(N, pred_data, actual_data, flag):\n",
    "    ind = np.arange(N)\n",
    "    width = 0.2\n",
    "    fig = plt.figure()\n",
    "    if flag == 'sentiment':\n",
    "        fig.suptitle('CNN Sentiment Prediction vs Actual Sentiment Distribution')\n",
    "    else:\n",
    "        fig.suptitle('CNN Rating Prediction vs Actual Rating Distribution')\n",
    "    ax = fig.add_subplot(111)\n",
    "    rects1 = ax.bar(ind, pred_data, width, color='y')\n",
    "    rects2 = ax.bar(ind+width+0.1, actual_data, width, color='g')\n",
    "\n",
    "    ax.set_ylabel('Occurrences')\n",
    "    ax.set_xticks(ind+width)\n",
    "    if flag == 'sentiment':\n",
    "        ax.set_xticklabels( ('negative', 'neutral', 'positive') )\n",
    "        ax.legend( (rects1[0], rects2[0]), ('Sentiment Prediction', 'Actual Sentiment') )\n",
    "    else:\n",
    "        ax.set_xticklabels( ('1', '2', '3', '4', '5') )\n",
    "        ax.legend( (rects1[0], rects2[0]), ('Rating Prediction', 'Actual Rating') )\n",
    "    def autolabel(rects):\n",
    "        for rect in rects:\n",
    "            h = rect.get_height()\n",
    "            ax.text(rect.get_x()+rect.get_width()/2., 0.05*h, '%d'%int(h),\n",
    "                ha='center', va='bottom')\n",
    "    autolabel(rects1)\n",
    "    autolabel(rects2)\n",
    "    plt.show()"
   ]
  },
  {
   "cell_type": "code",
   "execution_count": 60,
   "id": "76208243",
   "metadata": {},
   "outputs": [
    {
     "data": {
      "image/png": "[encoded data removed]",
      "text/plain": [
       "<Figure size 432x288 with 1 Axes>"
      ]
     },
     "metadata": {
      "needs_background": "light"
     },
     "output_type": "display_data"
    }
   ],
   "source": [
    "graph_plot(3, sentiment_pred_data, sentiment_actual_data, 'sentiment')"
   ]
  },
  {
   "cell_type": "code",
   "execution_count": 61,
   "id": "43663780",
   "metadata": {},
   "outputs": [
    {
     "data": {
      "image/png": "[encoded data removed]",
      "text/plain": [
       "<Figure size 432x288 with 1 Axes>"
      ]
     },
     "metadata": {
      "needs_background": "light"
     },
     "output_type": "display_data"
    }
   ],
   "source": [
    "graph_plot(5, rating_pred_data, rating_actual_data, 'rating')"
   ]
  }
 ],
 "metadata": {
  "accelerator": "GPU",
  "colab": {
   "collapsed_sections": [],
   "name": "trip-advisor.ipynb",
   "provenance": []
  },
  "kernelspec": {
   "display_name": "Python 3",
   "language": "python",
   "name": "python3"
  },
  "language_info": {
   "codemirror_mode": {
    "name": "ipython",
    "version": 3
   },
   "file_extension": ".py",
   "mimetype": "text/x-python",
   "name": "python",
   "nbconvert_exporter": "python",
   "pygments_lexer": "ipython3",
   "version": "3.8.8"
  }
 },
 "nbformat": 4,
 "nbformat_minor": 5
}
